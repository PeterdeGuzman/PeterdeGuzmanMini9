{
  "nbformat": 4,
  "nbformat_minor": 0,
  "metadata": {
    "colab": {
      "provenance": [],
      "authorship_tag": "ABX9TyMUMCrxFD85iCjh/l4jLGMJ",
      "include_colab_link": true
    },
    "kernelspec": {
      "name": "python3",
      "display_name": "Python 3"
    },
    "language_info": {
      "name": "python"
    }
  },
  "cells": [
    {
      "cell_type": "markdown",
      "metadata": {
        "id": "view-in-github",
        "colab_type": "text"
      },
      "source": [
        "<a href=\"https://colab.research.google.com/github/PeterdeGuzman/PeterdeGuzmanMini9/blob/main/PeterdeGuzman_Mini9.ipynb\" target=\"_parent\"><img src=\"https://colab.research.google.com/assets/colab-badge.svg\" alt=\"Open In Colab\"/></a>"
      ]
    },
    {
      "cell_type": "code",
      "execution_count": null,
      "metadata": {
        "id": "fAnCbCnShOMk"
      },
      "outputs": [],
      "source": []
    },
    {
      "cell_type": "markdown",
      "source": [
        "# IDS 706 - Mini Project 9\n",
        "#Cloud-Hosted Notebook Data Manipulation\n",
        "\n",
        "## Peter de Guzman\n",
        "\n",
        "\n",
        "\n",
        "\n",
        "1.   List item\n",
        "2.   List item\n",
        "\n"
      ],
      "metadata": {
        "id": "0iszOIeAjEtz"
      }
    },
    {
      "cell_type": "markdown",
      "source": [
        "### Project Requirements:\n",
        "\n",
        "Requirements:\n",
        "* Set up a cloud-hosted Jupyter Notebook (e.g., Google Colab)\n",
        "* Perform data manipulation tasks on a sample dataset\n",
        "\n",
        "### Project Explanation:\n"
      ],
      "metadata": {
        "id": "P2mLXz9ajSao"
      }
    },
    {
      "cell_type": "code",
      "source": [
        "# Load data"
      ],
      "metadata": {
        "id": "vN6EZEXHjPdc"
      },
      "execution_count": null,
      "outputs": []
    }
  ]
}